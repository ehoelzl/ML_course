{
 "cells": [
  {
   "cell_type": "code",
   "execution_count": 1,
   "metadata": {},
   "outputs": [],
   "source": [
    "%matplotlib inline\n",
    "%load_ext autoreload\n",
    "%autoreload 2\n",
    "import matplotlib.pyplot as plt\n",
    "from torch_unet.dataset import BasicDataset\n",
    "from torch_unet.unet import UNet\n",
    "import numpy as np\n",
    "\n",
    "from torch.utils.tensorboard import SummaryWriter\n",
    "from torch.utils.data import DataLoader, random_split\n",
    "import torch\n",
    "import logging\n",
    "\n",
    "import torch.nn as nn\n",
    "from torch import optim\n",
    "from tqdm import tqdm\n",
    "from torch_unet.evaluation import eval_net\n",
    "from torchsummary import summary\n",
    "from torch_unet.losses import DiceCoeff\n",
    "from torch_unet.unet.components import Down\n",
    "\n",
    "logging.basicConfig(level=logging.INFO, format='%(levelname)s: %(message)s')\n",
    "\n",
    "logger = logging.getLogger()\n",
    "logger.setLevel(logging.DEBUG)"
   ]
  },
  {
   "cell_type": "code",
   "execution_count": 2,
   "metadata": {},
   "outputs": [],
   "source": [
    "DATADIR = \"../Datasets/training/\"\n",
    "IMAGE_DIR = DATADIR + \"images/\"\n",
    "MASK_DIR = DATADIR + \"groundtruth/\"\n",
    "MASK_THRESHOLD = 0.25\n",
    "\n",
    "val_percent = 0.2\n",
    "batch_size=1\n",
    "lr = 0.001\n",
    "img_scale = 1\n",
    "epochs = 5"
   ]
  },
  {
   "cell_type": "code",
   "execution_count": 3,
   "metadata": {},
   "outputs": [
    {
     "name": "stderr",
     "output_type": "stream",
     "text": [
      "INFO: Creating dataset with 100 examples\n"
     ]
    }
   ],
   "source": [
    "dataset = BasicDataset(IMAGE_DIR, MASK_DIR, mask_treshold=MASK_THRESHOLD)"
   ]
  },
  {
   "cell_type": "code",
   "execution_count": 4,
   "metadata": {},
   "outputs": [],
   "source": [
    "n_val = int(len(dataset) * val_percent)\n",
    "n_train = len(dataset) - n_val\n",
    "train, val = random_split(dataset, [n_train, n_val])\n",
    "train_loader = DataLoader(train, batch_size=batch_size, shuffle=True, num_workers=2, pin_memory=True)\n",
    "val_loader = DataLoader(val, batch_size=batch_size, shuffle=False, num_workers=2, pin_memory=True)"
   ]
  },
  {
   "cell_type": "code",
   "execution_count": 5,
   "metadata": {},
   "outputs": [
    {
     "name": "stderr",
     "output_type": "stream",
     "text": [
      "INFO: Using device cpu\n"
     ]
    }
   ],
   "source": [
    "device = torch.device('cuda' if torch.cuda.is_available() else 'cpu')\n",
    "logging.info(f'Using device {device}')\n",
    "net = UNet(n_channels=3, n_classes=1, bilinear=False)\n",
    "net.to(device=device);"
   ]
  },
  {
   "cell_type": "code",
   "execution_count": 7,
   "metadata": {},
   "outputs": [],
   "source": [
    "writer = SummaryWriter(comment=f'LR_{lr}_BS_{batch_size}_SCALE_{img_scale}')\n",
    "global_step = 0"
   ]
  },
  {
   "cell_type": "code",
   "execution_count": 8,
   "metadata": {},
   "outputs": [],
   "source": [
    "optimizer = optim.Adam(net.parameters(), lr=lr, weight_decay=1e-8)\n",
    "criterion = nn.BCEWithLogitsLoss()"
   ]
  },
  {
   "cell_type": "code",
   "execution_count": null,
   "metadata": {},
   "outputs": [
    {
     "name": "stderr",
     "output_type": "stream",
     "text": [
      "Epoch 1/5:  12%|█▎        | 10/80 [01:01<07:04,  6.07s/img, loss (batch)=0.562]\n",
      "Validation round:   0%|          | 0/20 [00:00<?, ?img/s]\u001b[A\n",
      "Validation round:   5%|▌         | 1/20 [00:02<00:40,  2.12s/img]\u001b[A\n",
      "Validation round:  10%|█         | 2/20 [00:03<00:35,  2.00s/img]\u001b[A\n",
      "Validation round:  15%|█▌        | 3/20 [00:05<00:31,  1.87s/img]\u001b[A\n",
      "Validation round:  20%|██        | 4/20 [00:07<00:28,  1.79s/img]\u001b[A\n",
      "Validation round:  25%|██▌       | 5/20 [00:08<00:26,  1.76s/img]\u001b[A\n",
      "Validation round:  30%|███       | 6/20 [00:10<00:24,  1.73s/img]\u001b[A\n",
      "Validation round:  35%|███▌      | 7/20 [00:12<00:23,  1.78s/img]\u001b[A\n",
      "Validation round:  40%|████      | 8/20 [00:13<00:20,  1.74s/img]\u001b[A\n",
      "Validation round:  45%|████▌     | 9/20 [00:15<00:18,  1.71s/img]\u001b[A\n",
      "Validation round:  50%|█████     | 10/20 [00:17<00:16,  1.69s/img]\u001b[A\n",
      "Validation round:  55%|█████▌    | 11/20 [00:18<00:15,  1.68s/img]\u001b[A\n",
      "Validation round:  60%|██████    | 12/20 [00:20<00:14,  1.78s/img]\u001b[A\n",
      "Validation round:  65%|██████▌   | 13/20 [00:22<00:12,  1.76s/img]\u001b[A\n",
      "Validation round:  70%|███████   | 14/20 [00:24<00:10,  1.80s/img]\u001b[A\n",
      "Validation round:  75%|███████▌  | 15/20 [00:26<00:09,  1.85s/img]\u001b[A\n",
      "Validation round:  80%|████████  | 16/20 [00:28<00:08,  2.06s/img]\u001b[A\n",
      "Validation round:  85%|████████▌ | 17/20 [00:30<00:05,  1.94s/img]\u001b[A\n",
      "Validation round:  90%|█████████ | 18/20 [00:32<00:03,  1.86s/img]\u001b[A"
     ]
    }
   ],
   "source": [
    "for epoch in range(epochs):\n",
    "    net.train()   # Sets module in training mode\n",
    "    epoch_loss = 0\n",
    "    with tqdm(total=n_train, desc=f'Epoch {epoch + 1}/{epochs}', unit='img') as pbar:\n",
    "        for batch in train_loader:\n",
    "            imgs = batch['image']\n",
    "            true_masks = batch['mask']\n",
    "\n",
    "            imgs = imgs.to(device=device, dtype=torch.float32)\n",
    "            true_masks = true_masks.to(device=device, dtype=torch.float32)\n",
    "            \n",
    "            masks_pred = net(imgs)  # Make predictions\n",
    "            loss = criterion(masks_pred, true_masks)  # Evaluate loss\n",
    "            \n",
    "            epoch_loss += loss.item()    # Add loss to epoch\n",
    "            writer.add_scalar('Loss/train', loss.item(), global_step)  \n",
    "\n",
    "            pbar.set_postfix(**{'loss (batch)': loss.item()})\n",
    "\n",
    "            optimizer.zero_grad()\n",
    "            loss.backward()\n",
    "            optimizer.step()\n",
    "\n",
    "            pbar.update(imgs.shape[0])\n",
    "            global_step += 1\n",
    "            if global_step % (len(dataset) // (10 * batch_size)) == 0:\n",
    "                val_score = eval_net(net, val_loader, device, n_val)\n",
    "                logging.info('Validation Dice Coeff: {}'.format(val_score))\n",
    "                writer.add_scalar('Dice/test', val_score, global_step)\n",
    "\n",
    "                writer.add_images('images', imgs, global_step)\n",
    "                if net.n_classes == 1:\n",
    "                    writer.add_images('masks/true', true_masks, global_step)\n",
    "                    writer.add_images('masks/pred', torch.sigmoid(masks_pred) > 0.5, global_step)\n",
    "    if save_cp:\n",
    "        try:\n",
    "            os.mkdir(dir_checkpoint)\n",
    "            logging.info('Created checkpoint directory')\n",
    "        except OSError:\n",
    "            pass\n",
    "        torch.save(net.state_dict(),\n",
    "                   dir_checkpoint + f'CP_epoch{epoch + 1}.pth')\n",
    "        logging.info(f'Checkpoint {epoch + 1} saved !')\n",
    "\n",
    "writer.close()\n"
   ]
  },
  {
   "cell_type": "code",
   "execution_count": 10,
   "metadata": {},
   "outputs": [
    {
     "data": {
      "text/plain": [
       "torch.Size([4, 1, 400, 400])"
      ]
     },
     "execution_count": 10,
     "metadata": {},
     "output_type": "execute_result"
    }
   ],
   "source": [
    "np.max(masks_pred)"
   ]
  },
  {
   "cell_type": "code",
   "execution_count": null,
   "metadata": {},
   "outputs": [],
   "source": [
    "import gc\n",
    "gc.collect()"
   ]
  },
  {
   "cell_type": "code",
   "execution_count": null,
   "metadata": {},
   "outputs": [],
   "source": []
  }
 ],
 "metadata": {
  "kernelspec": {
   "display_name": "Python (ML)",
   "language": "python",
   "name": "ml"
  },
  "language_info": {
   "codemirror_mode": {
    "name": "ipython",
    "version": 3
   },
   "file_extension": ".py",
   "mimetype": "text/x-python",
   "name": "python",
   "nbconvert_exporter": "python",
   "pygments_lexer": "ipython3",
   "version": "3.7.4"
  }
 },
 "nbformat": 4,
 "nbformat_minor": 2
}
